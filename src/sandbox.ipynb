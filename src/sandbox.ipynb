{
 "cells": [
  {
   "cell_type": "code",
   "execution_count": 4,
   "metadata": {},
   "outputs": [],
   "source": [
    "import pandas as pd\n",
    "\n",
    "df = pd.read_csv('data/technical_support_data.csv')"
   ]
  },
  {
   "cell_type": "code",
   "execution_count": 5,
   "metadata": {
    "pycharm": {
     "name": "#%%\n"
    }
   },
   "outputs": [
    {
     "data": {
      "text/plain": "                 PROBLEM_TYPE  no_of_cases  Avg_pending_calls  Avg_resol_time  \\\n4  Forgot mobile app password           45                2.3              54   \n\n   recurrence_freq  Replace_percent  In_warranty_percent  \\\n4             0.15              0.0                   99   \n\n   Post_warranty_percent  \n4                      1  ",
      "text/html": "<div>\n<style scoped>\n    .dataframe tbody tr th:only-of-type {\n        vertical-align: middle;\n    }\n\n    .dataframe tbody tr th {\n        vertical-align: top;\n    }\n\n    .dataframe thead th {\n        text-align: right;\n    }\n</style>\n<table border=\"1\" class=\"dataframe\">\n  <thead>\n    <tr style=\"text-align: right;\">\n      <th></th>\n      <th>PROBLEM_TYPE</th>\n      <th>no_of_cases</th>\n      <th>Avg_pending_calls</th>\n      <th>Avg_resol_time</th>\n      <th>recurrence_freq</th>\n      <th>Replace_percent</th>\n      <th>In_warranty_percent</th>\n      <th>Post_warranty_percent</th>\n    </tr>\n  </thead>\n  <tbody>\n    <tr>\n      <th>4</th>\n      <td>Forgot mobile app password</td>\n      <td>45</td>\n      <td>2.3</td>\n      <td>54</td>\n      <td>0.15</td>\n      <td>0.0</td>\n      <td>99</td>\n      <td>1</td>\n    </tr>\n  </tbody>\n</table>\n</div>"
     },
     "execution_count": 5,
     "metadata": {},
     "output_type": "execute_result"
    }
   ],
   "source": [
    "cols = df.columns\n",
    "\n",
    "df[df.PROBLEM_TYPE.str.contains('password')]"
   ]
  },
  {
   "cell_type": "code",
   "execution_count": 6,
   "metadata": {
    "pycharm": {
     "name": "#%%\n"
    }
   },
   "outputs": [
    {
     "data": {
      "text/plain": "                                 PROBLEM_TYPE  no_of_cases  Avg_pending_calls  \\\n0             Temperature control not working          170                1.3   \n1            power chord does not tightly fit           12                2.0   \n2                       Fan swing not working            5                1.0   \n3                     Main switch does not on            3                2.0   \n4                  Forgot mobile app password           45                2.3   \n5                           AC stops abruptly           47                3.1   \n6            App hangs while entring commands           12                4.0   \n7         App takes a long time to initialize          165                1.2   \n8     Unable to connect the App to the device          321                1.0   \n9        Reinstalling the app hangs the phone           22                3.3   \n10       Mobile screen blanks on use of phone           23                4.3   \n11              Cluttered with popup messages          230                1.3   \n12              AC controller sofware missing          193                1.2   \n13                   AC remote does not  work           24                2.8   \n14                     Remote Keys get stuck           450                1.0   \n15         Unable to operate menu from remote          520                1.0   \n16               Motor noise from the system           390                1.0   \n17                     Freshner holder stuck           140                1.7   \n18               Factory settings not working           72                2.3   \n19                  WIFI connectivity breaks           290                1.1   \n20  Battery backup does not get fully charged           29                2.2   \n21           Battery does not last full 8 hrs           43                2.1   \n22             Fan speed varies at on its own           78                2.2   \n\n    Avg_resol_time  recurrence_freq  Replace_percent  In_warranty_percent  \\\n0               32             0.04             0.00                   75   \n1              150             0.01             0.50                    5   \n2               35             0.02             0.20                   90   \n3                8             0.01             0.70                    5   \n4               54             0.15             0.00                   99   \n5              132             0.30             0.03                  100   \n6              154             0.02             0.05                  100   \n7               32             0.03             0.00                   95   \n8                5             0.21             0.00                   60   \n9              140             0.14             0.01                   95   \n10             143             0.21             0.06                  100   \n11              23             0.02             0.00                   10   \n12              33             0.03             0.00                  100   \n13             180             0.04             0.00                  100   \n14               8             0.25             0.00                  100   \n15               7             0.28             0.00                  100   \n16               9             0.27             0.00                    5   \n17              23             0.05             0.04                   60   \n18             125             0.02             0.00                  100   \n19              11             0.22             0.00                   90   \n20              45             0.35             0.22                   50   \n21              56             0.31             0.28                   60   \n22              44             0.19             0.21                   10   \n\n    Post_warranty_percent  \n0                      25  \n1                      95  \n2                      10  \n3                      95  \n4                       1  \n5                       0  \n6                       0  \n7                       5  \n8                      40  \n9                       5  \n10                      0  \n11                     90  \n12                      0  \n13                      0  \n14                      0  \n15                      0  \n16                     95  \n17                     40  \n18                      0  \n19                     10  \n20                     50  \n21                     40  \n22                     90  ",
      "text/html": "<div>\n<style scoped>\n    .dataframe tbody tr th:only-of-type {\n        vertical-align: middle;\n    }\n\n    .dataframe tbody tr th {\n        vertical-align: top;\n    }\n\n    .dataframe thead th {\n        text-align: right;\n    }\n</style>\n<table border=\"1\" class=\"dataframe\">\n  <thead>\n    <tr style=\"text-align: right;\">\n      <th></th>\n      <th>PROBLEM_TYPE</th>\n      <th>no_of_cases</th>\n      <th>Avg_pending_calls</th>\n      <th>Avg_resol_time</th>\n      <th>recurrence_freq</th>\n      <th>Replace_percent</th>\n      <th>In_warranty_percent</th>\n      <th>Post_warranty_percent</th>\n    </tr>\n  </thead>\n  <tbody>\n    <tr>\n      <th>0</th>\n      <td>Temperature control not working</td>\n      <td>170</td>\n      <td>1.3</td>\n      <td>32</td>\n      <td>0.04</td>\n      <td>0.00</td>\n      <td>75</td>\n      <td>25</td>\n    </tr>\n    <tr>\n      <th>1</th>\n      <td>power chord does not tightly fit</td>\n      <td>12</td>\n      <td>2.0</td>\n      <td>150</td>\n      <td>0.01</td>\n      <td>0.50</td>\n      <td>5</td>\n      <td>95</td>\n    </tr>\n    <tr>\n      <th>2</th>\n      <td>Fan swing not working</td>\n      <td>5</td>\n      <td>1.0</td>\n      <td>35</td>\n      <td>0.02</td>\n      <td>0.20</td>\n      <td>90</td>\n      <td>10</td>\n    </tr>\n    <tr>\n      <th>3</th>\n      <td>Main switch does not on</td>\n      <td>3</td>\n      <td>2.0</td>\n      <td>8</td>\n      <td>0.01</td>\n      <td>0.70</td>\n      <td>5</td>\n      <td>95</td>\n    </tr>\n    <tr>\n      <th>4</th>\n      <td>Forgot mobile app password</td>\n      <td>45</td>\n      <td>2.3</td>\n      <td>54</td>\n      <td>0.15</td>\n      <td>0.00</td>\n      <td>99</td>\n      <td>1</td>\n    </tr>\n    <tr>\n      <th>5</th>\n      <td>AC stops abruptly</td>\n      <td>47</td>\n      <td>3.1</td>\n      <td>132</td>\n      <td>0.30</td>\n      <td>0.03</td>\n      <td>100</td>\n      <td>0</td>\n    </tr>\n    <tr>\n      <th>6</th>\n      <td>App hangs while entring commands</td>\n      <td>12</td>\n      <td>4.0</td>\n      <td>154</td>\n      <td>0.02</td>\n      <td>0.05</td>\n      <td>100</td>\n      <td>0</td>\n    </tr>\n    <tr>\n      <th>7</th>\n      <td>App takes a long time to initialize</td>\n      <td>165</td>\n      <td>1.2</td>\n      <td>32</td>\n      <td>0.03</td>\n      <td>0.00</td>\n      <td>95</td>\n      <td>5</td>\n    </tr>\n    <tr>\n      <th>8</th>\n      <td>Unable to connect the App to the device</td>\n      <td>321</td>\n      <td>1.0</td>\n      <td>5</td>\n      <td>0.21</td>\n      <td>0.00</td>\n      <td>60</td>\n      <td>40</td>\n    </tr>\n    <tr>\n      <th>9</th>\n      <td>Reinstalling the app hangs the phone</td>\n      <td>22</td>\n      <td>3.3</td>\n      <td>140</td>\n      <td>0.14</td>\n      <td>0.01</td>\n      <td>95</td>\n      <td>5</td>\n    </tr>\n    <tr>\n      <th>10</th>\n      <td>Mobile screen blanks on use of phone</td>\n      <td>23</td>\n      <td>4.3</td>\n      <td>143</td>\n      <td>0.21</td>\n      <td>0.06</td>\n      <td>100</td>\n      <td>0</td>\n    </tr>\n    <tr>\n      <th>11</th>\n      <td>Cluttered with popup messages</td>\n      <td>230</td>\n      <td>1.3</td>\n      <td>23</td>\n      <td>0.02</td>\n      <td>0.00</td>\n      <td>10</td>\n      <td>90</td>\n    </tr>\n    <tr>\n      <th>12</th>\n      <td>AC controller sofware missing</td>\n      <td>193</td>\n      <td>1.2</td>\n      <td>33</td>\n      <td>0.03</td>\n      <td>0.00</td>\n      <td>100</td>\n      <td>0</td>\n    </tr>\n    <tr>\n      <th>13</th>\n      <td>AC remote does not  work</td>\n      <td>24</td>\n      <td>2.8</td>\n      <td>180</td>\n      <td>0.04</td>\n      <td>0.00</td>\n      <td>100</td>\n      <td>0</td>\n    </tr>\n    <tr>\n      <th>14</th>\n      <td>Remote Keys get stuck</td>\n      <td>450</td>\n      <td>1.0</td>\n      <td>8</td>\n      <td>0.25</td>\n      <td>0.00</td>\n      <td>100</td>\n      <td>0</td>\n    </tr>\n    <tr>\n      <th>15</th>\n      <td>Unable to operate menu from remote</td>\n      <td>520</td>\n      <td>1.0</td>\n      <td>7</td>\n      <td>0.28</td>\n      <td>0.00</td>\n      <td>100</td>\n      <td>0</td>\n    </tr>\n    <tr>\n      <th>16</th>\n      <td>Motor noise from the system</td>\n      <td>390</td>\n      <td>1.0</td>\n      <td>9</td>\n      <td>0.27</td>\n      <td>0.00</td>\n      <td>5</td>\n      <td>95</td>\n    </tr>\n    <tr>\n      <th>17</th>\n      <td>Freshner holder stuck</td>\n      <td>140</td>\n      <td>1.7</td>\n      <td>23</td>\n      <td>0.05</td>\n      <td>0.04</td>\n      <td>60</td>\n      <td>40</td>\n    </tr>\n    <tr>\n      <th>18</th>\n      <td>Factory settings not working</td>\n      <td>72</td>\n      <td>2.3</td>\n      <td>125</td>\n      <td>0.02</td>\n      <td>0.00</td>\n      <td>100</td>\n      <td>0</td>\n    </tr>\n    <tr>\n      <th>19</th>\n      <td>WIFI connectivity breaks</td>\n      <td>290</td>\n      <td>1.1</td>\n      <td>11</td>\n      <td>0.22</td>\n      <td>0.00</td>\n      <td>90</td>\n      <td>10</td>\n    </tr>\n    <tr>\n      <th>20</th>\n      <td>Battery backup does not get fully charged</td>\n      <td>29</td>\n      <td>2.2</td>\n      <td>45</td>\n      <td>0.35</td>\n      <td>0.22</td>\n      <td>50</td>\n      <td>50</td>\n    </tr>\n    <tr>\n      <th>21</th>\n      <td>Battery does not last full 8 hrs</td>\n      <td>43</td>\n      <td>2.1</td>\n      <td>56</td>\n      <td>0.31</td>\n      <td>0.28</td>\n      <td>60</td>\n      <td>40</td>\n    </tr>\n    <tr>\n      <th>22</th>\n      <td>Fan speed varies at on its own</td>\n      <td>78</td>\n      <td>2.2</td>\n      <td>44</td>\n      <td>0.19</td>\n      <td>0.21</td>\n      <td>10</td>\n      <td>90</td>\n    </tr>\n  </tbody>\n</table>\n</div>"
     },
     "execution_count": 6,
     "metadata": {},
     "output_type": "execute_result"
    }
   ],
   "source": [
    "df"
   ]
  },
  {
   "cell_type": "code",
   "execution_count": 7,
   "metadata": {
    "pycharm": {
     "name": "#%%\n"
    }
   },
   "outputs": [
    {
     "ename": "ModuleNotFoundError",
     "evalue": "No module named 'seaborn'",
     "output_type": "error",
     "traceback": [
      "\u001B[0;31m---------------------------------------------------------------------------\u001B[0m",
      "\u001B[0;31mModuleNotFoundError\u001B[0m                       Traceback (most recent call last)",
      "\u001B[0;32m<ipython-input-7-a139c237baec>\u001B[0m in \u001B[0;36m<module>\u001B[0;34m\u001B[0m\n\u001B[0;32m----> 1\u001B[0;31m \u001B[0;32mimport\u001B[0m \u001B[0mseaborn\u001B[0m \u001B[0;32mas\u001B[0m \u001B[0msns\u001B[0m\u001B[0;34m\u001B[0m\u001B[0;34m\u001B[0m\u001B[0m\n\u001B[0m\u001B[1;32m      2\u001B[0m \u001B[0;34m\u001B[0m\u001B[0m\n\u001B[1;32m      3\u001B[0m \u001B[0msns\u001B[0m\u001B[0;34m.\u001B[0m\u001B[0mboxplot\u001B[0m\u001B[0;34m(\u001B[0m\u001B[0mdata\u001B[0m\u001B[0;34m=\u001B[0m\u001B[0mdf\u001B[0m\u001B[0;34m,\u001B[0m \u001B[0my\u001B[0m\u001B[0;34m=\u001B[0m\u001B[0;34m'Avg_resol_time'\u001B[0m\u001B[0;34m)\u001B[0m\u001B[0;34m\u001B[0m\u001B[0;34m\u001B[0m\u001B[0m\n",
      "\u001B[0;31mModuleNotFoundError\u001B[0m: No module named 'seaborn'"
     ]
    }
   ],
   "source": [
    "import seaborn as sns\n",
    "\n",
    "sns.boxplot(data=df, y='Avg_resol_time')"
   ]
  },
  {
   "cell_type": "code",
   "execution_count": 1,
   "metadata": {
    "pycharm": {
     "name": "#%%\n"
    }
   },
   "outputs": [
    {
     "ename": "ModuleNotFoundError",
     "evalue": "No module named 'seaborn'",
     "output_type": "error",
     "traceback": [
      "\u001B[0;31m---------------------------------------------------------------------------\u001B[0m",
      "\u001B[0;31mModuleNotFoundError\u001B[0m                       Traceback (most recent call last)",
      "\u001B[0;32m<ipython-input-1-58c3743a0cfd>\u001B[0m in \u001B[0;36m<module>\u001B[0;34m\u001B[0m\n\u001B[0;32m----> 1\u001B[0;31m \u001B[0;32mimport\u001B[0m \u001B[0mseaborn\u001B[0m \u001B[0;32mas\u001B[0m \u001B[0msns\u001B[0m\u001B[0;34m\u001B[0m\u001B[0;34m\u001B[0m\u001B[0m\n\u001B[0m\u001B[1;32m      2\u001B[0m \u001B[0mdf\u001B[0m \u001B[0;34m=\u001B[0m \u001B[0msns\u001B[0m\u001B[0;34m.\u001B[0m\u001B[0mload_dataset\u001B[0m\u001B[0;34m(\u001B[0m\u001B[0;34m\"penguins\"\u001B[0m\u001B[0;34m)\u001B[0m\u001B[0;34m\u001B[0m\u001B[0;34m\u001B[0m\u001B[0m\n\u001B[1;32m      3\u001B[0m \u001B[0msns\u001B[0m\u001B[0;34m.\u001B[0m\u001B[0mpairplot\u001B[0m\u001B[0;34m(\u001B[0m\u001B[0mdf\u001B[0m\u001B[0;34m,\u001B[0m \u001B[0mhue\u001B[0m\u001B[0;34m=\u001B[0m\u001B[0;34m\"species\"\u001B[0m\u001B[0;34m)\u001B[0m\u001B[0;34m\u001B[0m\u001B[0;34m\u001B[0m\u001B[0m\n",
      "\u001B[0;31mModuleNotFoundError\u001B[0m: No module named 'seaborn'"
     ]
    }
   ],
   "source": [
    "import seaborn as sns\n",
    "df = sns.load_dataset(\"penguins\")\n",
    "sns.pairplot(df, hue=\"species\")"
   ]
  },
  {
   "cell_type": "code",
   "execution_count": null,
   "metadata": {},
   "outputs": [],
   "source": []
  }
 ],
 "metadata": {
  "kernelspec": {
   "display_name": "Python 3",
   "language": "python",
   "name": "python3"
  },
  "language_info": {
   "codemirror_mode": {
    "name": "ipython",
    "version": 3
   },
   "file_extension": ".py",
   "mimetype": "text/x-python",
   "name": "python",
   "nbconvert_exporter": "python",
   "pygments_lexer": "ipython3",
   "version": "3.8.5"
  }
 },
 "nbformat": 4,
 "nbformat_minor": 1
}